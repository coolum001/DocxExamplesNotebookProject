{
 "cells": [
  {
   "cell_type": "code",
   "execution_count": 36,
   "metadata": {},
   "outputs": [],
   "source": [
    "from  thumbizer import thumbizer as thumb\n",
    "\n",
    "import importlib\n"
   ]
  },
  {
   "cell_type": "code",
   "execution_count": 37,
   "metadata": {},
   "outputs": [
    {
     "data": {
      "text/plain": [
       "'thumbizer.thumbizer'"
      ]
     },
     "execution_count": 37,
     "metadata": {},
     "output_type": "execute_result"
    }
   ],
   "source": [
    "thumb.__name__"
   ]
  },
  {
   "cell_type": "code",
   "execution_count": 38,
   "metadata": {},
   "outputs": [
    {
     "data": {
      "text/plain": [
       "<module 'thumbizer.thumbizer' from 'C:\\\\Users\\\\donrc\\\\Documents\\\\JupyterNotebooks\\\\DocxExamplesNotebookProject\\\\develop\\\\thumbizer\\\\thumbizer.py'>"
      ]
     },
     "execution_count": 38,
     "metadata": {},
     "output_type": "execute_result"
    }
   ],
   "source": [
    "importlib.reload(thumb)\n"
   ]
  },
  {
   "cell_type": "code",
   "execution_count": 39,
   "metadata": {},
   "outputs": [
    {
     "data": {
      "text/plain": [
       "\u001b[1;31mType:\u001b[0m        module\n",
       "\u001b[1;31mString form:\u001b[0m <module 'thumbizer.thumbizer' from 'C:\\\\Users\\\\donrc\\\\Documents\\\\JupyterNotebooks\\\\DocxExamplesNotebookProject\\\\develop\\\\thumbizer\\\\thumbizer.py'>\n",
       "\u001b[1;31mFile:\u001b[0m        c:\\users\\donrc\\documents\\jupyternotebooks\\docxexamplesnotebookproject\\develop\\thumbizer\\thumbizer.py\n",
       "\u001b[1;31mDocstring:\u001b[0m   module holding thumbnail creation functions\n"
      ]
     },
     "metadata": {},
     "output_type": "display_data"
    }
   ],
   "source": [
    "thumb?"
   ]
  },
  {
   "cell_type": "code",
   "execution_count": 52,
   "metadata": {},
   "outputs": [
    {
     "data": {
      "text/plain": [
       "\u001b[1;31mSignature:\u001b[0m \u001b[0mthumb\u001b[0m\u001b[1;33m.\u001b[0m\u001b[0mcreate_thumbs_directory\u001b[0m\u001b[1;33m(\u001b[0m\u001b[0mthumb_pixels\u001b[0m\u001b[1;33m=\u001b[0m\u001b[1;36m128\u001b[0m\u001b[1;33m,\u001b[0m \u001b[0mfile_path_regex\u001b[0m\u001b[1;33m=\u001b[0m\u001b[1;34m'./*.jpg'\u001b[0m\u001b[1;33m,\u001b[0m \u001b[0mverbose\u001b[0m\u001b[1;33m=\u001b[0m\u001b[1;32mFalse\u001b[0m\u001b[1;33m)\u001b[0m\u001b[1;33m\u001b[0m\u001b[0m\n",
       "\u001b[1;31mDocstring:\u001b[0m\n",
       "Create a sub-directory with thumbnails of image files in a directory\n",
       "\n",
       "Parameters:\n",
       "thumb_pixels: integer: size in pixels of square aspect ratio thumbnails\n",
       "file_path_regex: string: string holding path regex to image files (JPG files)\n",
       "verbose: boolean: if True, outputs text showing file names processed\n",
       "\n",
       "Returns:\n",
       "count of files processed\n",
       "\n",
       "Environment: assumes that there is an existing subdirectory below the image directory,\n",
       "called /thumbnails\n",
       "\u001b[1;31mFile:\u001b[0m      c:\\users\\donrc\\documents\\jupyternotebooks\\docxexamplesnotebookproject\\develop\\thumbizer\\thumbizer.py\n",
       "\u001b[1;31mType:\u001b[0m      function\n"
      ]
     },
     "metadata": {},
     "output_type": "display_data"
    }
   ],
   "source": [
    "thumb.create_thumbs_directory?"
   ]
  },
  {
   "cell_type": "code",
   "execution_count": 41,
   "metadata": {},
   "outputs": [
    {
     "name": "stdout",
     "output_type": "stream",
     "text": [
      "Opening:  ../figures/test_images\\test_image01.jpg\n",
      "Saved thumbnail for: ../figures/test_images\\test_image01\n"
     ]
    },
    {
     "data": {
      "text/plain": [
       "1"
      ]
     },
     "execution_count": 41,
     "metadata": {},
     "output_type": "execute_result"
    }
   ],
   "source": [
    "thumb.create_thumbs_directory(thumb_pixels=200, verbose=True, \n",
    "                              file_path_regex='../figures/test_images/*.jpg')"
   ]
  },
  {
   "cell_type": "code",
   "execution_count": 51,
   "metadata": {},
   "outputs": [
    {
     "name": "stdout",
     "output_type": "stream",
     "text": [
      "============================= test session starts =============================\n",
      "platform win32 -- Python 3.6.3, pytest-3.2.5, py-1.5.2, pluggy-0.4.0\n",
      "rootdir: C:\\Users\\donrc\\Documents\\JupyterNotebooks\\DocxExamplesNotebookProject\\develop, inifile:\n",
      "plugins: remotedata-0.2.0, openfiles-0.2.0, doctestplus-0.1.2, arraydiff-0.2\n",
      "collected 1 item\n",
      "\n",
      "test_thumbizer.py .\n",
      "\n",
      "========================== 1 passed in 0.07 seconds ===========================\n"
     ]
    }
   ],
   "source": [
    "!pytest"
   ]
  },
  {
   "cell_type": "code",
   "execution_count": 53,
   "metadata": {},
   "outputs": [
    {
     "data": {
      "text/plain": [
       "1"
      ]
     },
     "execution_count": 53,
     "metadata": {},
     "output_type": "execute_result"
    }
   ],
   "source": [
    "thumb.create_thumbs_directory(thumb_pixels=200, \n",
    "                              file_path_regex='../figures/test_images/*.jpg')"
   ]
  },
  {
   "cell_type": "code",
   "execution_count": null,
   "metadata": {},
   "outputs": [],
   "source": []
  }
 ],
 "metadata": {
  "kernelspec": {
   "display_name": "Python [conda env:root36]",
   "language": "python",
   "name": "conda-env-root36-py"
  },
  "language_info": {
   "codemirror_mode": {
    "name": "ipython",
    "version": 3
   },
   "file_extension": ".py",
   "mimetype": "text/x-python",
   "name": "python",
   "nbconvert_exporter": "python",
   "pygments_lexer": "ipython3",
   "version": "3.6.3"
  }
 },
 "nbformat": 4,
 "nbformat_minor": 2
}
